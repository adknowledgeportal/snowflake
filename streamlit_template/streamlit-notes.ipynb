{
 "cells": [
  {
   "cell_type": "code",
   "execution_count": 1,
   "metadata": {},
   "outputs": [
    {
     "name": "stderr",
     "output_type": "stream",
     "text": [
      "2024-08-28 16:31:20.051 WARNING streamlit.runtime.caching.cache_data_api: No runtime found, using MemoryCacheStorageManager\n"
     ]
    }
   ],
   "source": [
    "import sys\n",
    "import os\n",
    "\n",
    "toolkit_dir = os.path.abspath('./toolkit')\n",
    "sys.path.append(toolkit_dir)\n",
    "\n",
    "import numpy as np\n",
    "import streamlit as st\n",
    "from toolkit.adkp_queries import (\n",
    "    query_project_summary,\n",
    "    query_monthly_downloads_per_study\n",
    ")\n",
    "from toolkit.utils import get_data_from_snowflake\n",
    "from toolkit.widgets import plot_download_sizes, plot_unique_users_trend"
   ]
  },
  {
   "cell_type": "code",
   "execution_count": 2,
   "metadata": {},
   "outputs": [
    {
     "name": "stderr",
     "output_type": "stream",
     "text": [
      "2024-08-28 16:31:20.553 \n",
      "  \u001b[33m\u001b[1mWarning:\u001b[0m to view this Streamlit app on a browser, run it with the following\n",
      "  command:\n",
      "\n",
      "    streamlit run /Users/alinden/.pyenv/versions/3.10.9/envs/snowflake-streamlit-3.10.9/lib/python3.10/site-packages/ipykernel_launcher.py [ARGUMENTS]\n",
      "2024-08-28 16:31:20.554 No runtime found, using MemoryCacheStorageManager\n"
     ]
    }
   ],
   "source": [
    "# 1. Retrieve the data using your queries in queries.py\n",
    "project_summary_df = get_data_from_snowflake(query_project_summary())"
   ]
  },
  {
   "cell_type": "code",
   "execution_count": 3,
   "metadata": {},
   "outputs": [
    {
     "data": {
      "text/html": [
       "<div>\n",
       "<style scoped>\n",
       "    .dataframe tbody tr th:only-of-type {\n",
       "        vertical-align: middle;\n",
       "    }\n",
       "\n",
       "    .dataframe tbody tr th {\n",
       "        vertical-align: top;\n",
       "    }\n",
       "\n",
       "    .dataframe thead th {\n",
       "        text-align: right;\n",
       "    }\n",
       "</style>\n",
       "<table border=\"1\" class=\"dataframe\">\n",
       "  <thead>\n",
       "    <tr style=\"text-align: right;\">\n",
       "      <th></th>\n",
       "      <th>TOTAL_FILES</th>\n",
       "      <th>TOTAL_SIZE_IN_TB</th>\n",
       "      <th>STORAGE_COST_PER_YEAR</th>\n",
       "    </tr>\n",
       "  </thead>\n",
       "  <tbody>\n",
       "    <tr>\n",
       "      <th>0</th>\n",
       "      <td>260520</td>\n",
       "      <td>811.82</td>\n",
       "      <td>229439.39</td>\n",
       "    </tr>\n",
       "  </tbody>\n",
       "</table>\n",
       "</div>"
      ],
      "text/plain": [
       "   TOTAL_FILES  TOTAL_SIZE_IN_TB  STORAGE_COST_PER_YEAR\n",
       "0       260520            811.82              229439.39"
      ]
     },
     "execution_count": 3,
     "metadata": {},
     "output_type": "execute_result"
    }
   ],
   "source": [
    "project_summary_df"
   ]
  },
  {
   "cell_type": "code",
   "execution_count": 4,
   "metadata": {},
   "outputs": [],
   "source": [
    "unique_users_df = get_data_from_snowflake(query_monthly_downloads_per_study())"
   ]
  },
  {
   "cell_type": "code",
   "execution_count": 5,
   "metadata": {},
   "outputs": [
    {
     "data": {
      "text/html": [
       "<div>\n",
       "<style scoped>\n",
       "    .dataframe tbody tr th:only-of-type {\n",
       "        vertical-align: middle;\n",
       "    }\n",
       "\n",
       "    .dataframe tbody tr th {\n",
       "        vertical-align: top;\n",
       "    }\n",
       "\n",
       "    .dataframe thead th {\n",
       "        text-align: right;\n",
       "    }\n",
       "</style>\n",
       "<table border=\"1\" class=\"dataframe\">\n",
       "  <thead>\n",
       "    <tr style=\"text-align: right;\">\n",
       "      <th></th>\n",
       "      <th>STUDY</th>\n",
       "      <th>MONTH</th>\n",
       "      <th>NUMBER_OF_DOWNLOADS</th>\n",
       "      <th>NUMBER_OF_UNIQUE_USERS</th>\n",
       "      <th>GIB_DOWNLOADED</th>\n",
       "    </tr>\n",
       "  </thead>\n",
       "  <tbody>\n",
       "    <tr>\n",
       "      <th>0</th>\n",
       "      <td>ROSMAP</td>\n",
       "      <td>2024-08-01</td>\n",
       "      <td>46712</td>\n",
       "      <td>137</td>\n",
       "      <td>99004.74</td>\n",
       "    </tr>\n",
       "    <tr>\n",
       "      <th>1</th>\n",
       "      <td>MIT_ROSMAP_Multiomics</td>\n",
       "      <td>2024-08-01</td>\n",
       "      <td>85959</td>\n",
       "      <td>50</td>\n",
       "      <td>133003.87</td>\n",
       "    </tr>\n",
       "    <tr>\n",
       "      <th>2</th>\n",
       "      <td>AMP-AD_DiverseCohorts</td>\n",
       "      <td>2024-08-01</td>\n",
       "      <td>33880</td>\n",
       "      <td>25</td>\n",
       "      <td>44063.30</td>\n",
       "    </tr>\n",
       "    <tr>\n",
       "      <th>3</th>\n",
       "      <td>MSBB</td>\n",
       "      <td>2024-08-01</td>\n",
       "      <td>3438</td>\n",
       "      <td>22</td>\n",
       "      <td>2798.56</td>\n",
       "    </tr>\n",
       "    <tr>\n",
       "      <th>4</th>\n",
       "      <td>rnaSeqReprocessing</td>\n",
       "      <td>2024-08-01</td>\n",
       "      <td>2351</td>\n",
       "      <td>19</td>\n",
       "      <td>19680.67</td>\n",
       "    </tr>\n",
       "    <tr>\n",
       "      <th>...</th>\n",
       "      <td>...</td>\n",
       "      <td>...</td>\n",
       "      <td>...</td>\n",
       "      <td>...</td>\n",
       "      <td>...</td>\n",
       "    </tr>\n",
       "    <tr>\n",
       "      <th>2416</th>\n",
       "      <td>APOEPSC</td>\n",
       "      <td>2022-01-01</td>\n",
       "      <td>2</td>\n",
       "      <td>1</td>\n",
       "      <td>0.00</td>\n",
       "    </tr>\n",
       "    <tr>\n",
       "      <th>2417</th>\n",
       "      <td>AD_CrossSpecies</td>\n",
       "      <td>2022-01-01</td>\n",
       "      <td>1</td>\n",
       "      <td>1</td>\n",
       "      <td>0.02</td>\n",
       "    </tr>\n",
       "    <tr>\n",
       "      <th>2418</th>\n",
       "      <td>ADMC_ADNI2-GO</td>\n",
       "      <td>2022-01-01</td>\n",
       "      <td>11</td>\n",
       "      <td>1</td>\n",
       "      <td>0.00</td>\n",
       "    </tr>\n",
       "    <tr>\n",
       "      <th>2419</th>\n",
       "      <td>AD-BXD</td>\n",
       "      <td>2022-01-01</td>\n",
       "      <td>1</td>\n",
       "      <td>1</td>\n",
       "      <td>0.00</td>\n",
       "    </tr>\n",
       "    <tr>\n",
       "      <th>2420</th>\n",
       "      <td>ACOM</td>\n",
       "      <td>2022-01-01</td>\n",
       "      <td>5</td>\n",
       "      <td>1</td>\n",
       "      <td>0.02</td>\n",
       "    </tr>\n",
       "  </tbody>\n",
       "</table>\n",
       "<p>2421 rows × 5 columns</p>\n",
       "</div>"
      ],
      "text/plain": [
       "                      STUDY       MONTH  NUMBER_OF_DOWNLOADS  \\\n",
       "0                    ROSMAP  2024-08-01                46712   \n",
       "1     MIT_ROSMAP_Multiomics  2024-08-01                85959   \n",
       "2     AMP-AD_DiverseCohorts  2024-08-01                33880   \n",
       "3                      MSBB  2024-08-01                 3438   \n",
       "4        rnaSeqReprocessing  2024-08-01                 2351   \n",
       "...                     ...         ...                  ...   \n",
       "2416                APOEPSC  2022-01-01                    2   \n",
       "2417       AD_CrossSpecies   2022-01-01                    1   \n",
       "2418          ADMC_ADNI2-GO  2022-01-01                   11   \n",
       "2419                 AD-BXD  2022-01-01                    1   \n",
       "2420                   ACOM  2022-01-01                    5   \n",
       "\n",
       "      NUMBER_OF_UNIQUE_USERS  GIB_DOWNLOADED  \n",
       "0                        137        99004.74  \n",
       "1                         50       133003.87  \n",
       "2                         25        44063.30  \n",
       "3                         22         2798.56  \n",
       "4                         19        19680.67  \n",
       "...                      ...             ...  \n",
       "2416                       1            0.00  \n",
       "2417                       1            0.02  \n",
       "2418                       1            0.00  \n",
       "2419                       1            0.00  \n",
       "2420                       1            0.02  \n",
       "\n",
       "[2421 rows x 5 columns]"
      ]
     },
     "execution_count": 5,
     "metadata": {},
     "output_type": "execute_result"
    }
   ],
   "source": [
    "unique_users_df"
   ]
  },
  {
   "cell_type": "code",
   "execution_count": 6,
   "metadata": {},
   "outputs": [],
   "source": [
    "total_files = project_summary_df.loc[0,'TOTAL_FILES']\n",
    "total_data_volume = project_summary_df.loc[0, 'TOTAL_SIZE_IN_TB']"
   ]
  },
  {
   "cell_type": "code",
   "execution_count": 7,
   "metadata": {},
   "outputs": [
    {
     "data": {
      "text/plain": [
       "DeltaGenerator()"
      ]
     },
     "execution_count": 7,
     "metadata": {},
     "output_type": "execute_result"
    }
   ],
   "source": [
    "col1, col2, col3 = st.columns([1, 1, 5])\n",
    "col1.metric(\"Total Number of Files\", f\"{total_files}\")\n",
    "col2.metric(\"Total Data Volume\", f\"{total_data_volume} TB\")"
   ]
  },
  {
   "cell_type": "code",
   "execution_count": 8,
   "metadata": {},
   "outputs": [],
   "source": [
    "import pandas as pd\n",
    "import plotly.express as px\n",
    "import plotly.graph_objects as go"
   ]
  },
  {
   "cell_type": "code",
   "execution_count": null,
   "metadata": {},
   "outputs": [],
   "source": []
  },
  {
   "cell_type": "code",
   "execution_count": 15,
   "metadata": {},
   "outputs": [],
   "source": [
    "grouped_df = (\n",
    "    unique_users_df.groupby([\"STUDY\", \"MONTH\"])[\"NUMBER_OF_UNIQUE_USERS\"]\n",
    "    .sum()\n",
    "    .reset_index()\n",
    ")"
   ]
  },
  {
   "cell_type": "code",
   "execution_count": 36,
   "metadata": {},
   "outputs": [],
   "source": [
    "grouped_df[\"MONTH\"] = pd.to_datetime(grouped_df[\"MONTH\"])"
   ]
  },
  {
   "cell_type": "code",
   "execution_count": 37,
   "metadata": {},
   "outputs": [
    {
     "data": {
      "text/html": [
       "<div>\n",
       "<style scoped>\n",
       "    .dataframe tbody tr th:only-of-type {\n",
       "        vertical-align: middle;\n",
       "    }\n",
       "\n",
       "    .dataframe tbody tr th {\n",
       "        vertical-align: top;\n",
       "    }\n",
       "\n",
       "    .dataframe thead th {\n",
       "        text-align: right;\n",
       "    }\n",
       "</style>\n",
       "<table border=\"1\" class=\"dataframe\">\n",
       "  <thead>\n",
       "    <tr style=\"text-align: right;\">\n",
       "      <th></th>\n",
       "      <th>STUDY</th>\n",
       "      <th>MONTH</th>\n",
       "      <th>NUMBER_OF_UNIQUE_USERS</th>\n",
       "    </tr>\n",
       "  </thead>\n",
       "  <tbody>\n",
       "    <tr>\n",
       "      <th>45</th>\n",
       "      <td>ACT</td>\n",
       "      <td>2024-07-01</td>\n",
       "      <td>1</td>\n",
       "    </tr>\n",
       "    <tr>\n",
       "      <th>76</th>\n",
       "      <td>AD-BXD</td>\n",
       "      <td>2024-07-01</td>\n",
       "      <td>4</td>\n",
       "    </tr>\n",
       "    <tr>\n",
       "      <th>130</th>\n",
       "      <td>ADMC_ADNI2-GO</td>\n",
       "      <td>2024-07-01</td>\n",
       "      <td>1</td>\n",
       "    </tr>\n",
       "    <tr>\n",
       "      <th>187</th>\n",
       "      <td>ADMC_ADNI_UHawaiiGutMetabolites</td>\n",
       "      <td>2024-07-01</td>\n",
       "      <td>1</td>\n",
       "    </tr>\n",
       "    <tr>\n",
       "      <th>223</th>\n",
       "      <td>AD_CrossSpecies</td>\n",
       "      <td>2024-07-01</td>\n",
       "      <td>3</td>\n",
       "    </tr>\n",
       "    <tr>\n",
       "      <th>...</th>\n",
       "      <td>...</td>\n",
       "      <td>...</td>\n",
       "      <td>...</td>\n",
       "    </tr>\n",
       "    <tr>\n",
       "      <th>2242</th>\n",
       "      <td>iPSCMicroglia</td>\n",
       "      <td>2024-07-01</td>\n",
       "      <td>3</td>\n",
       "    </tr>\n",
       "    <tr>\n",
       "      <th>2258</th>\n",
       "      <td>miR155</td>\n",
       "      <td>2024-07-01</td>\n",
       "      <td>2</td>\n",
       "    </tr>\n",
       "    <tr>\n",
       "      <th>2321</th>\n",
       "      <td>rnaSeqReprocessing</td>\n",
       "      <td>2024-07-01</td>\n",
       "      <td>18</td>\n",
       "    </tr>\n",
       "    <tr>\n",
       "      <th>2387</th>\n",
       "      <td>snRNAseqAD_TREM2</td>\n",
       "      <td>2024-07-01</td>\n",
       "      <td>3</td>\n",
       "    </tr>\n",
       "    <tr>\n",
       "      <th>2419</th>\n",
       "      <td>snRNAseqPFC_BA10</td>\n",
       "      <td>2024-07-01</td>\n",
       "      <td>16</td>\n",
       "    </tr>\n",
       "  </tbody>\n",
       "</table>\n",
       "<p>86 rows × 3 columns</p>\n",
       "</div>"
      ],
      "text/plain": [
       "                                STUDY      MONTH  NUMBER_OF_UNIQUE_USERS\n",
       "45                                ACT 2024-07-01                       1\n",
       "76                             AD-BXD 2024-07-01                       4\n",
       "130                     ADMC_ADNI2-GO 2024-07-01                       1\n",
       "187   ADMC_ADNI_UHawaiiGutMetabolites 2024-07-01                       1\n",
       "223                   AD_CrossSpecies 2024-07-01                       3\n",
       "...                               ...        ...                     ...\n",
       "2242                    iPSCMicroglia 2024-07-01                       3\n",
       "2258                           miR155 2024-07-01                       2\n",
       "2321               rnaSeqReprocessing 2024-07-01                      18\n",
       "2387                 snRNAseqAD_TREM2 2024-07-01                       3\n",
       "2419                 snRNAseqPFC_BA10 2024-07-01                      16\n",
       "\n",
       "[86 rows x 3 columns]"
      ]
     },
     "execution_count": 37,
     "metadata": {},
     "output_type": "execute_result"
    }
   ],
   "source": [
    "grouped_df.loc[grouped_df[\"MONTH\"] == \"2024-07-01\"]"
   ]
  },
  {
   "cell_type": "code",
   "execution_count": 27,
   "metadata": {},
   "outputs": [],
   "source": [
    "month = pd.to_datetime(grouped_df[\"MONTH\"])"
   ]
  },
  {
   "cell_type": "code",
   "execution_count": 33,
   "metadata": {},
   "outputs": [
    {
     "data": {
      "text/plain": [
       "<bound method Series.unique of 0      2022-01-01\n",
       "1      2022-03-01\n",
       "2      2022-04-01\n",
       "3      2022-05-01\n",
       "4      2022-06-01\n",
       "          ...    \n",
       "2416   2024-04-01\n",
       "2417   2024-05-01\n",
       "2418   2024-06-01\n",
       "2419   2024-07-01\n",
       "2420   2024-08-01\n",
       "Name: MONTH, Length: 2421, dtype: datetime64[ns]>"
      ]
     },
     "execution_count": 33,
     "metadata": {},
     "output_type": "execute_result"
    }
   ],
   "source": [
    "month.unique"
   ]
  },
  {
   "cell_type": "code",
   "execution_count": 40,
   "metadata": {},
   "outputs": [],
   "source": [
    "recent_top_studies = (\n",
    "    grouped_df.loc[grouped_df[\"MONTH\"] == \"2024-07-01\"]\n",
    "    .sort_values(by=\"NUMBER_OF_UNIQUE_USERS\", ascending=False)\n",
    "    .head(10)\n",
    ")"
   ]
  },
  {
   "cell_type": "code",
   "execution_count": 41,
   "metadata": {},
   "outputs": [],
   "source": [
    "fig = go.Figure()"
   ]
  }
 ],
 "metadata": {
  "kernelspec": {
   "display_name": "snowflake-streamlit-3.10.9",
   "language": "python",
   "name": "python3"
  },
  "language_info": {
   "codemirror_mode": {
    "name": "ipython",
    "version": 3
   },
   "file_extension": ".py",
   "mimetype": "text/x-python",
   "name": "python",
   "nbconvert_exporter": "python",
   "pygments_lexer": "ipython3",
   "version": "3.10.9"
  }
 },
 "nbformat": 4,
 "nbformat_minor": 2
}
